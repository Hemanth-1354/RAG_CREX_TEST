{
  "nbformat": 4,
  "nbformat_minor": 0,
  "metadata": {
    "colab": {
      "provenance": []
    },
    "kernelspec": {
      "name": "python3",
      "display_name": "Python 3"
    },
    "language_info": {
      "name": "python"
    }
  },
  "cells": [
    {
      "cell_type": "code",
      "execution_count": 1,
      "metadata": {
        "id": "cGAvAb9eIFRJ",
        "colab": {
          "base_uri": "https://localhost:8080/"
        },
        "outputId": "cbd5494d-dcd4-4298-844d-5eeec12b0ae8"
      },
      "outputs": [
        {
          "output_type": "stream",
          "name": "stdout",
          "text": [
            "Requirement already satisfied: langchain_community in /usr/local/lib/python3.11/dist-packages (0.3.23)\n",
            "Requirement already satisfied: langchainhub in /usr/local/lib/python3.11/dist-packages (0.1.21)\n",
            "Requirement already satisfied: chromadb in /usr/local/lib/python3.11/dist-packages (1.0.7)\n",
            "Requirement already satisfied: langchain in /usr/local/lib/python3.11/dist-packages (0.3.24)\n",
            "Requirement already satisfied: langchain-cohere in /usr/local/lib/python3.11/dist-packages (0.4.4)\n",
            "Requirement already satisfied: langchain-core<1.0.0,>=0.3.56 in /usr/local/lib/python3.11/dist-packages (from langchain_community) (0.3.56)\n",
            "Requirement already satisfied: SQLAlchemy<3,>=1.4 in /usr/local/lib/python3.11/dist-packages (from langchain_community) (2.0.40)\n",
            "Requirement already satisfied: requests<3,>=2 in /usr/local/lib/python3.11/dist-packages (from langchain_community) (2.32.3)\n",
            "Requirement already satisfied: PyYAML>=5.3 in /usr/local/lib/python3.11/dist-packages (from langchain_community) (6.0.2)\n",
            "Requirement already satisfied: aiohttp<4.0.0,>=3.8.3 in /usr/local/lib/python3.11/dist-packages (from langchain_community) (3.11.15)\n",
            "Requirement already satisfied: tenacity!=8.4.0,<10,>=8.1.0 in /usr/local/lib/python3.11/dist-packages (from langchain_community) (9.1.2)\n",
            "Requirement already satisfied: dataclasses-json<0.7,>=0.5.7 in /usr/local/lib/python3.11/dist-packages (from langchain_community) (0.6.7)\n",
            "Requirement already satisfied: pydantic-settings<3.0.0,>=2.4.0 in /usr/local/lib/python3.11/dist-packages (from langchain_community) (2.9.1)\n",
            "Requirement already satisfied: langsmith<0.4,>=0.1.125 in /usr/local/lib/python3.11/dist-packages (from langchain_community) (0.3.38)\n",
            "Requirement already satisfied: httpx-sse<1.0.0,>=0.4.0 in /usr/local/lib/python3.11/dist-packages (from langchain_community) (0.4.0)\n",
            "Requirement already satisfied: numpy>=1.26.2 in /usr/local/lib/python3.11/dist-packages (from langchain_community) (2.0.2)\n",
            "Requirement already satisfied: packaging<25,>=23.2 in /usr/local/lib/python3.11/dist-packages (from langchainhub) (24.2)\n",
            "Requirement already satisfied: types-requests<3.0.0.0,>=2.31.0.2 in /usr/local/lib/python3.11/dist-packages (from langchainhub) (2.32.0.20250328)\n",
            "Requirement already satisfied: build>=1.0.3 in /usr/local/lib/python3.11/dist-packages (from chromadb) (1.2.2.post1)\n",
            "Requirement already satisfied: pydantic>=1.9 in /usr/local/lib/python3.11/dist-packages (from chromadb) (2.11.3)\n",
            "Requirement already satisfied: chroma-hnswlib==0.7.6 in /usr/local/lib/python3.11/dist-packages (from chromadb) (0.7.6)\n",
            "Requirement already satisfied: fastapi==0.115.9 in /usr/local/lib/python3.11/dist-packages (from chromadb) (0.115.9)\n",
            "Requirement already satisfied: uvicorn>=0.18.3 in /usr/local/lib/python3.11/dist-packages (from uvicorn[standard]>=0.18.3->chromadb) (0.34.2)\n",
            "Requirement already satisfied: posthog>=2.4.0 in /usr/local/lib/python3.11/dist-packages (from chromadb) (4.0.1)\n",
            "Requirement already satisfied: typing-extensions>=4.5.0 in /usr/local/lib/python3.11/dist-packages (from chromadb) (4.13.2)\n",
            "Requirement already satisfied: onnxruntime>=1.14.1 in /usr/local/lib/python3.11/dist-packages (from chromadb) (1.21.1)\n",
            "Requirement already satisfied: opentelemetry-api>=1.2.0 in /usr/local/lib/python3.11/dist-packages (from chromadb) (1.32.1)\n",
            "Requirement already satisfied: opentelemetry-exporter-otlp-proto-grpc>=1.2.0 in /usr/local/lib/python3.11/dist-packages (from chromadb) (1.32.1)\n",
            "Requirement already satisfied: opentelemetry-instrumentation-fastapi>=0.41b0 in /usr/local/lib/python3.11/dist-packages (from chromadb) (0.53b1)\n",
            "Requirement already satisfied: opentelemetry-sdk>=1.2.0 in /usr/local/lib/python3.11/dist-packages (from chromadb) (1.32.1)\n",
            "Requirement already satisfied: tokenizers>=0.13.2 in /usr/local/lib/python3.11/dist-packages (from chromadb) (0.21.1)\n",
            "Requirement already satisfied: pypika>=0.48.9 in /usr/local/lib/python3.11/dist-packages (from chromadb) (0.48.9)\n",
            "Requirement already satisfied: tqdm>=4.65.0 in /usr/local/lib/python3.11/dist-packages (from chromadb) (4.67.1)\n",
            "Requirement already satisfied: overrides>=7.3.1 in /usr/local/lib/python3.11/dist-packages (from chromadb) (7.7.0)\n",
            "Requirement already satisfied: importlib-resources in /usr/local/lib/python3.11/dist-packages (from chromadb) (6.5.2)\n",
            "Requirement already satisfied: grpcio>=1.58.0 in /usr/local/lib/python3.11/dist-packages (from chromadb) (1.71.0)\n",
            "Requirement already satisfied: bcrypt>=4.0.1 in /usr/local/lib/python3.11/dist-packages (from chromadb) (4.3.0)\n",
            "Requirement already satisfied: typer>=0.9.0 in /usr/local/lib/python3.11/dist-packages (from chromadb) (0.15.3)\n",
            "Requirement already satisfied: kubernetes>=28.1.0 in /usr/local/lib/python3.11/dist-packages (from chromadb) (32.0.1)\n",
            "Requirement already satisfied: mmh3>=4.0.1 in /usr/local/lib/python3.11/dist-packages (from chromadb) (5.1.0)\n",
            "Requirement already satisfied: orjson>=3.9.12 in /usr/local/lib/python3.11/dist-packages (from chromadb) (3.10.17)\n",
            "Requirement already satisfied: httpx>=0.27.0 in /usr/local/lib/python3.11/dist-packages (from chromadb) (0.28.1)\n",
            "Requirement already satisfied: rich>=10.11.0 in /usr/local/lib/python3.11/dist-packages (from chromadb) (13.9.4)\n",
            "Requirement already satisfied: jsonschema>=4.19.0 in /usr/local/lib/python3.11/dist-packages (from chromadb) (4.23.0)\n",
            "Requirement already satisfied: starlette<0.46.0,>=0.40.0 in /usr/local/lib/python3.11/dist-packages (from fastapi==0.115.9->chromadb) (0.45.3)\n",
            "Requirement already satisfied: langchain-text-splitters<1.0.0,>=0.3.8 in /usr/local/lib/python3.11/dist-packages (from langchain) (0.3.8)\n",
            "Requirement already satisfied: cohere<6.0,>=5.12.0 in /usr/local/lib/python3.11/dist-packages (from langchain-cohere) (5.15.0)\n",
            "Requirement already satisfied: types-pyyaml<7.0.0.0,>=6.0.12.20240917 in /usr/local/lib/python3.11/dist-packages (from langchain-cohere) (6.0.12.20250402)\n",
            "Requirement already satisfied: aiohappyeyeballs>=2.3.0 in /usr/local/lib/python3.11/dist-packages (from aiohttp<4.0.0,>=3.8.3->langchain_community) (2.6.1)\n",
            "Requirement already satisfied: aiosignal>=1.1.2 in /usr/local/lib/python3.11/dist-packages (from aiohttp<4.0.0,>=3.8.3->langchain_community) (1.3.2)\n",
            "Requirement already satisfied: attrs>=17.3.0 in /usr/local/lib/python3.11/dist-packages (from aiohttp<4.0.0,>=3.8.3->langchain_community) (25.3.0)\n",
            "Requirement already satisfied: frozenlist>=1.1.1 in /usr/local/lib/python3.11/dist-packages (from aiohttp<4.0.0,>=3.8.3->langchain_community) (1.6.0)\n",
            "Requirement already satisfied: multidict<7.0,>=4.5 in /usr/local/lib/python3.11/dist-packages (from aiohttp<4.0.0,>=3.8.3->langchain_community) (6.4.3)\n",
            "Requirement already satisfied: propcache>=0.2.0 in /usr/local/lib/python3.11/dist-packages (from aiohttp<4.0.0,>=3.8.3->langchain_community) (0.3.1)\n",
            "Requirement already satisfied: yarl<2.0,>=1.17.0 in /usr/local/lib/python3.11/dist-packages (from aiohttp<4.0.0,>=3.8.3->langchain_community) (1.20.0)\n",
            "Requirement already satisfied: pyproject_hooks in /usr/local/lib/python3.11/dist-packages (from build>=1.0.3->chromadb) (1.2.0)\n",
            "Requirement already satisfied: fastavro<2.0.0,>=1.9.4 in /usr/local/lib/python3.11/dist-packages (from cohere<6.0,>=5.12.0->langchain-cohere) (1.10.0)\n",
            "Requirement already satisfied: pydantic-core<3.0.0,>=2.18.2 in /usr/local/lib/python3.11/dist-packages (from cohere<6.0,>=5.12.0->langchain-cohere) (2.33.1)\n",
            "Requirement already satisfied: marshmallow<4.0.0,>=3.18.0 in /usr/local/lib/python3.11/dist-packages (from dataclasses-json<0.7,>=0.5.7->langchain_community) (3.26.1)\n",
            "Requirement already satisfied: typing-inspect<1,>=0.4.0 in /usr/local/lib/python3.11/dist-packages (from dataclasses-json<0.7,>=0.5.7->langchain_community) (0.9.0)\n",
            "Requirement already satisfied: anyio in /usr/local/lib/python3.11/dist-packages (from httpx>=0.27.0->chromadb) (4.9.0)\n",
            "Requirement already satisfied: certifi in /usr/local/lib/python3.11/dist-packages (from httpx>=0.27.0->chromadb) (2025.4.26)\n",
            "Requirement already satisfied: httpcore==1.* in /usr/local/lib/python3.11/dist-packages (from httpx>=0.27.0->chromadb) (1.0.9)\n",
            "Requirement already satisfied: idna in /usr/local/lib/python3.11/dist-packages (from httpx>=0.27.0->chromadb) (3.10)\n",
            "Requirement already satisfied: h11>=0.16 in /usr/local/lib/python3.11/dist-packages (from httpcore==1.*->httpx>=0.27.0->chromadb) (0.16.0)\n",
            "Requirement already satisfied: jsonschema-specifications>=2023.03.6 in /usr/local/lib/python3.11/dist-packages (from jsonschema>=4.19.0->chromadb) (2025.4.1)\n",
            "Requirement already satisfied: referencing>=0.28.4 in /usr/local/lib/python3.11/dist-packages (from jsonschema>=4.19.0->chromadb) (0.36.2)\n",
            "Requirement already satisfied: rpds-py>=0.7.1 in /usr/local/lib/python3.11/dist-packages (from jsonschema>=4.19.0->chromadb) (0.24.0)\n",
            "Requirement already satisfied: six>=1.9.0 in /usr/local/lib/python3.11/dist-packages (from kubernetes>=28.1.0->chromadb) (1.17.0)\n",
            "Requirement already satisfied: python-dateutil>=2.5.3 in /usr/local/lib/python3.11/dist-packages (from kubernetes>=28.1.0->chromadb) (2.9.0.post0)\n",
            "Requirement already satisfied: google-auth>=1.0.1 in /usr/local/lib/python3.11/dist-packages (from kubernetes>=28.1.0->chromadb) (2.38.0)\n",
            "Requirement already satisfied: websocket-client!=0.40.0,!=0.41.*,!=0.42.*,>=0.32.0 in /usr/local/lib/python3.11/dist-packages (from kubernetes>=28.1.0->chromadb) (1.8.0)\n",
            "Requirement already satisfied: requests-oauthlib in /usr/local/lib/python3.11/dist-packages (from kubernetes>=28.1.0->chromadb) (2.0.0)\n",
            "Requirement already satisfied: oauthlib>=3.2.2 in /usr/local/lib/python3.11/dist-packages (from kubernetes>=28.1.0->chromadb) (3.2.2)\n",
            "Requirement already satisfied: urllib3>=1.24.2 in /usr/local/lib/python3.11/dist-packages (from kubernetes>=28.1.0->chromadb) (2.4.0)\n",
            "Requirement already satisfied: durationpy>=0.7 in /usr/local/lib/python3.11/dist-packages (from kubernetes>=28.1.0->chromadb) (0.9)\n",
            "Requirement already satisfied: jsonpatch<2.0,>=1.33 in /usr/local/lib/python3.11/dist-packages (from langchain-core<1.0.0,>=0.3.56->langchain_community) (1.33)\n",
            "Requirement already satisfied: requests-toolbelt<2.0.0,>=1.0.0 in /usr/local/lib/python3.11/dist-packages (from langsmith<0.4,>=0.1.125->langchain_community) (1.0.0)\n",
            "Requirement already satisfied: zstandard<0.24.0,>=0.23.0 in /usr/local/lib/python3.11/dist-packages (from langsmith<0.4,>=0.1.125->langchain_community) (0.23.0)\n",
            "Requirement already satisfied: coloredlogs in /usr/local/lib/python3.11/dist-packages (from onnxruntime>=1.14.1->chromadb) (15.0.1)\n",
            "Requirement already satisfied: flatbuffers in /usr/local/lib/python3.11/dist-packages (from onnxruntime>=1.14.1->chromadb) (25.2.10)\n",
            "Requirement already satisfied: protobuf in /usr/local/lib/python3.11/dist-packages (from onnxruntime>=1.14.1->chromadb) (5.29.4)\n",
            "Requirement already satisfied: sympy in /usr/local/lib/python3.11/dist-packages (from onnxruntime>=1.14.1->chromadb) (1.13.1)\n",
            "Requirement already satisfied: deprecated>=1.2.6 in /usr/local/lib/python3.11/dist-packages (from opentelemetry-api>=1.2.0->chromadb) (1.2.18)\n",
            "Requirement already satisfied: importlib-metadata<8.7.0,>=6.0 in /usr/local/lib/python3.11/dist-packages (from opentelemetry-api>=1.2.0->chromadb) (8.6.1)\n",
            "Requirement already satisfied: googleapis-common-protos~=1.52 in /usr/local/lib/python3.11/dist-packages (from opentelemetry-exporter-otlp-proto-grpc>=1.2.0->chromadb) (1.70.0)\n",
            "Requirement already satisfied: opentelemetry-exporter-otlp-proto-common==1.32.1 in /usr/local/lib/python3.11/dist-packages (from opentelemetry-exporter-otlp-proto-grpc>=1.2.0->chromadb) (1.32.1)\n",
            "Requirement already satisfied: opentelemetry-proto==1.32.1 in /usr/local/lib/python3.11/dist-packages (from opentelemetry-exporter-otlp-proto-grpc>=1.2.0->chromadb) (1.32.1)\n",
            "Requirement already satisfied: opentelemetry-instrumentation-asgi==0.53b1 in /usr/local/lib/python3.11/dist-packages (from opentelemetry-instrumentation-fastapi>=0.41b0->chromadb) (0.53b1)\n",
            "Requirement already satisfied: opentelemetry-instrumentation==0.53b1 in /usr/local/lib/python3.11/dist-packages (from opentelemetry-instrumentation-fastapi>=0.41b0->chromadb) (0.53b1)\n",
            "Requirement already satisfied: opentelemetry-semantic-conventions==0.53b1 in /usr/local/lib/python3.11/dist-packages (from opentelemetry-instrumentation-fastapi>=0.41b0->chromadb) (0.53b1)\n",
            "Requirement already satisfied: opentelemetry-util-http==0.53b1 in /usr/local/lib/python3.11/dist-packages (from opentelemetry-instrumentation-fastapi>=0.41b0->chromadb) (0.53b1)\n",
            "Requirement already satisfied: wrapt<2.0.0,>=1.0.0 in /usr/local/lib/python3.11/dist-packages (from opentelemetry-instrumentation==0.53b1->opentelemetry-instrumentation-fastapi>=0.41b0->chromadb) (1.17.2)\n",
            "Requirement already satisfied: asgiref~=3.0 in /usr/local/lib/python3.11/dist-packages (from opentelemetry-instrumentation-asgi==0.53b1->opentelemetry-instrumentation-fastapi>=0.41b0->chromadb) (3.8.1)\n",
            "Requirement already satisfied: backoff>=1.10.0 in /usr/local/lib/python3.11/dist-packages (from posthog>=2.4.0->chromadb) (2.2.1)\n",
            "Requirement already satisfied: distro>=1.5.0 in /usr/local/lib/python3.11/dist-packages (from posthog>=2.4.0->chromadb) (1.9.0)\n",
            "Requirement already satisfied: annotated-types>=0.6.0 in /usr/local/lib/python3.11/dist-packages (from pydantic>=1.9->chromadb) (0.7.0)\n",
            "Requirement already satisfied: typing-inspection>=0.4.0 in /usr/local/lib/python3.11/dist-packages (from pydantic>=1.9->chromadb) (0.4.0)\n",
            "Requirement already satisfied: python-dotenv>=0.21.0 in /usr/local/lib/python3.11/dist-packages (from pydantic-settings<3.0.0,>=2.4.0->langchain_community) (1.1.0)\n",
            "Requirement already satisfied: charset-normalizer<4,>=2 in /usr/local/lib/python3.11/dist-packages (from requests<3,>=2->langchain_community) (3.4.1)\n",
            "Requirement already satisfied: markdown-it-py>=2.2.0 in /usr/local/lib/python3.11/dist-packages (from rich>=10.11.0->chromadb) (3.0.0)\n",
            "Requirement already satisfied: pygments<3.0.0,>=2.13.0 in /usr/local/lib/python3.11/dist-packages (from rich>=10.11.0->chromadb) (2.19.1)\n",
            "Requirement already satisfied: greenlet>=1 in /usr/local/lib/python3.11/dist-packages (from SQLAlchemy<3,>=1.4->langchain_community) (3.2.1)\n",
            "Requirement already satisfied: huggingface-hub<1.0,>=0.16.4 in /usr/local/lib/python3.11/dist-packages (from tokenizers>=0.13.2->chromadb) (0.30.2)\n",
            "Requirement already satisfied: click>=8.0.0 in /usr/local/lib/python3.11/dist-packages (from typer>=0.9.0->chromadb) (8.1.8)\n",
            "Requirement already satisfied: shellingham>=1.3.0 in /usr/local/lib/python3.11/dist-packages (from typer>=0.9.0->chromadb) (1.5.4)\n",
            "Requirement already satisfied: httptools>=0.6.3 in /usr/local/lib/python3.11/dist-packages (from uvicorn[standard]>=0.18.3->chromadb) (0.6.4)\n",
            "Requirement already satisfied: uvloop!=0.15.0,!=0.15.1,>=0.14.0 in /usr/local/lib/python3.11/dist-packages (from uvicorn[standard]>=0.18.3->chromadb) (0.21.0)\n",
            "Requirement already satisfied: watchfiles>=0.13 in /usr/local/lib/python3.11/dist-packages (from uvicorn[standard]>=0.18.3->chromadb) (1.0.5)\n",
            "Requirement already satisfied: websockets>=10.4 in /usr/local/lib/python3.11/dist-packages (from uvicorn[standard]>=0.18.3->chromadb) (15.0.1)\n",
            "Requirement already satisfied: cachetools<6.0,>=2.0.0 in /usr/local/lib/python3.11/dist-packages (from google-auth>=1.0.1->kubernetes>=28.1.0->chromadb) (5.5.2)\n",
            "Requirement already satisfied: pyasn1-modules>=0.2.1 in /usr/local/lib/python3.11/dist-packages (from google-auth>=1.0.1->kubernetes>=28.1.0->chromadb) (0.4.2)\n",
            "Requirement already satisfied: rsa<5,>=3.1.4 in /usr/local/lib/python3.11/dist-packages (from google-auth>=1.0.1->kubernetes>=28.1.0->chromadb) (4.9.1)\n",
            "Requirement already satisfied: filelock in /usr/local/lib/python3.11/dist-packages (from huggingface-hub<1.0,>=0.16.4->tokenizers>=0.13.2->chromadb) (3.18.0)\n",
            "Requirement already satisfied: fsspec>=2023.5.0 in /usr/local/lib/python3.11/dist-packages (from huggingface-hub<1.0,>=0.16.4->tokenizers>=0.13.2->chromadb) (2025.3.2)\n",
            "Requirement already satisfied: zipp>=3.20 in /usr/local/lib/python3.11/dist-packages (from importlib-metadata<8.7.0,>=6.0->opentelemetry-api>=1.2.0->chromadb) (3.21.0)\n",
            "Requirement already satisfied: jsonpointer>=1.9 in /usr/local/lib/python3.11/dist-packages (from jsonpatch<2.0,>=1.33->langchain-core<1.0.0,>=0.3.56->langchain_community) (3.0.0)\n",
            "Requirement already satisfied: mdurl~=0.1 in /usr/local/lib/python3.11/dist-packages (from markdown-it-py>=2.2.0->rich>=10.11.0->chromadb) (0.1.2)\n",
            "Requirement already satisfied: sniffio>=1.1 in /usr/local/lib/python3.11/dist-packages (from anyio->httpx>=0.27.0->chromadb) (1.3.1)\n",
            "Requirement already satisfied: mypy-extensions>=0.3.0 in /usr/local/lib/python3.11/dist-packages (from typing-inspect<1,>=0.4.0->dataclasses-json<0.7,>=0.5.7->langchain_community) (1.1.0)\n",
            "Requirement already satisfied: humanfriendly>=9.1 in /usr/local/lib/python3.11/dist-packages (from coloredlogs->onnxruntime>=1.14.1->chromadb) (10.0)\n",
            "Requirement already satisfied: mpmath<1.4,>=1.1.0 in /usr/local/lib/python3.11/dist-packages (from sympy->onnxruntime>=1.14.1->chromadb) (1.3.0)\n",
            "Requirement already satisfied: pyasn1<0.7.0,>=0.6.1 in /usr/local/lib/python3.11/dist-packages (from pyasn1-modules>=0.2.1->google-auth>=1.0.1->kubernetes>=28.1.0->chromadb) (0.6.1)\n"
          ]
        }
      ],
      "source": [
        "!pip install langchain_community langchainhub chromadb langchain langchain-cohere"
      ]
    },
    {
      "cell_type": "code",
      "source": [
        "from google.colab import userdata\n",
        "import os\n",
        "os.environ['COHERE_API_KEY'] = userdata.get('Coherellm')"
      ],
      "metadata": {
        "id": "iMO-06GEJC4H"
      },
      "execution_count": 2,
      "outputs": []
    },
    {
      "cell_type": "code",
      "source": [
        "from langchain_community.document_loaders import WebBaseLoader\n",
        "\n",
        "loader = WebBaseLoader([\"https://crex.com/series/7W/indian-premier-league-2020\" , \"https://crex.com/series/19W/indian-premier-league-2023\"])\n",
        "\n",
        "docs = loader.load()"
      ],
      "metadata": {
        "id": "LiTMvK60RSSd",
        "colab": {
          "base_uri": "https://localhost:8080/"
        },
        "outputId": "b8780223-8b80-4e30-cea4-bb7416688881"
      },
      "execution_count": 3,
      "outputs": [
        {
          "output_type": "stream",
          "name": "stderr",
          "text": [
            "WARNING:langchain_community.utils.user_agent:USER_AGENT environment variable not set, consider setting it to identify your requests.\n"
          ]
        }
      ]
    },
    {
      "cell_type": "code",
      "source": [
        "from langchain_text_splitters import RecursiveCharacterTextSplitter\n",
        "\n",
        "text_splitter = RecursiveCharacterTextSplitter(\n",
        "    chunk_size=500,\n",
        "    chunk_overlap=50)\n",
        "\n",
        "splits = text_splitter.split_documents(docs)\n",
        "print(splits[0].page_content)"
      ],
      "metadata": {
        "colab": {
          "base_uri": "https://localhost:8080/"
        },
        "id": "cQTk29K_TCnH",
        "outputId": "2eb7518f-6c17-459a-85b4-daf78c6cf046"
      },
      "execution_count": 4,
      "outputs": [
        {
          "output_type": "stream",
          "name": "stdout",
          "text": [
            "IPL 2020 Fixtures and Stats | Indian Premier League 2020 - crex.com\n"
          ]
        }
      ]
    },
    {
      "cell_type": "code",
      "source": [
        "print(len(splits))"
      ],
      "metadata": {
        "colab": {
          "base_uri": "https://localhost:8080/"
        },
        "id": "8hiZOGkdUjyQ",
        "outputId": "4ce651b7-7782-4c70-acee-ec7b06b5ccc4"
      },
      "execution_count": 5,
      "outputs": [
        {
          "output_type": "stream",
          "name": "stdout",
          "text": [
            "14\n"
          ]
        }
      ]
    },
    {
      "cell_type": "code",
      "source": [
        "from langchain.embeddings import CohereEmbeddings\n",
        "from langchain.vectorstores import Chroma\n",
        "\n",
        "embedding_model = CohereEmbeddings(user_agent=\"langchain\")\n",
        "vectorstore = Chroma.from_documents(\n",
        "    documents=splits,\n",
        "    embedding=embedding_model,\n",
        "    persist_directory=\"./chroma_db\"\n",
        ")\n",
        "\n",
        "vectorstore.persist()"
      ],
      "metadata": {
        "id": "UPbKAE36UzcM",
        "colab": {
          "base_uri": "https://localhost:8080/"
        },
        "outputId": "d9330e71-8d06-4f6c-f457-f1f96f94ab73"
      },
      "execution_count": 6,
      "outputs": [
        {
          "output_type": "stream",
          "name": "stderr",
          "text": [
            "<ipython-input-6-ec6518fcf9c6>:4: LangChainDeprecationWarning: The class `CohereEmbeddings` was deprecated in LangChain 0.0.30 and will be removed in 1.0. An updated version of the class exists in the :class:`~langchain-cohere package and should be used instead. To use it run `pip install -U :class:`~langchain-cohere` and import as `from :class:`~langchain_cohere import CohereEmbeddings``.\n",
            "  embedding_model = CohereEmbeddings(user_agent=\"langchain\")\n",
            "<ipython-input-6-ec6518fcf9c6>:11: LangChainDeprecationWarning: Since Chroma 0.4.x the manual persistence method is no longer supported as docs are automatically persisted.\n",
            "  vectorstore.persist()\n"
          ]
        }
      ]
    },
    {
      "cell_type": "code",
      "source": [
        "print(vectorstore._collection.count())"
      ],
      "metadata": {
        "colab": {
          "base_uri": "https://localhost:8080/"
        },
        "id": "tuAn5Ikibsux",
        "outputId": "434b0c9a-0265-4cbb-d0f9-188909b9ed67"
      },
      "execution_count": 7,
      "outputs": [
        {
          "output_type": "stream",
          "name": "stdout",
          "text": [
            "14\n"
          ]
        }
      ]
    },
    {
      "cell_type": "code",
      "source": [
        "print(vectorstore._collection.get())"
      ],
      "metadata": {
        "colab": {
          "base_uri": "https://localhost:8080/"
        },
        "id": "vvb6z2fHbz39",
        "outputId": "f1c2002d-9edf-4639-9929-6eea91abbbc7"
      },
      "execution_count": 8,
      "outputs": [
        {
          "output_type": "stream",
          "name": "stdout",
          "text": [
            "{'ids': ['dbb3ffab-7bdf-4d58-a638-fd4839ba556e', '949f3721-478e-48f6-ba3e-fb1f76806678', 'dc745dac-1af6-47aa-8cba-c87268a9d1b7', '2ba10941-fe7a-4b32-b336-7fffadf711ed', '45b0d863-7f95-42ca-b283-6ecb5f379666', '2a0f5434-7a5a-4dc2-96b3-6d71703ef1b2', '70ac0b9b-99a1-444f-b79b-5f0bc4a7f7f5', 'e32950fd-d22e-4611-9f4c-1748c72e3dae', 'deca0a45-e344-4fce-833b-5b63b9abb655', 'b930aa17-ab8b-40e8-b3d1-8cbcf5bf8fd1', 'dc86f48f-b22a-477f-8ea7-d3121dd07744', '5f7f5ee5-b461-4f98-926f-dc3fcfd4308e', '9dbf8127-2aec-4e09-a010-4071f6dbfa00', '12da6b71-8495-40e9-9dd5-3431bf8a73f1'], 'embeddings': None, 'documents': ['IPL 2020 Fixtures and Stats | Indian Premier League 2020 - crex.com', 'CREX Home(current) Series Fixtures\\uf8ffüèè Stats CornerRankings LCP Element', 'Indian Premier League 2020 Sep 19 to Nov 10More Seasons >IPL 2025IPL 2024 Overview  Matches  Squads  Points Table  News  Info  Featured Matches  All Matches > MI157/518.4 Mumbai Indians won  Final  IPL 2020DC156/720.0DC189/320.0 Delhi Capitals won  Qualifier 2  IPL 2020SRH172/820.0SRH132/419.4 Sunrisers Hyderabad won  Eliminator 1  IPL 2020RCB131/720.0IPL 2020 Points TableTeam FormTeamPWLNRCupRNRRPtsMumbai Indians149500.00+1.10718Delhi Capitals148600.00-0.10916Sunrisers', 'Capitals148600.00-0.10916Sunrisers Hyderabad147700.00+0.60814Royal Challengers Bengaluru147700.00-0.17214Kolkata Knight Riders147700.00-0.21414Punjab Kings146800.00-0.16212Chennai Super Kings146800.00-0.45512Rajasthan Royals146800.00-0.56912 Team Squads RCBRRCSKDCMISRHPBKSKKR Series Info SeriesIndian Premier League 2020DurationSep 19 - Nov 10, 2020Format60 T20s Previous Seasons IPL 2025IPL 2024IPL 2023More Seasons > Key Stats  Most Runs K RahulPunjab Kings 670 Runs  Most Wickets K RabadaDelhi', \"Kings 670 Runs  Most Wickets K RabadaDelhi Capitals 30  Most Sixes I KishanMumbai Indians 30  Best Strike Rate K PollardMumbai Indians 191.43  Top headlines  All News > Travis Head vs Rohit Sharma: Key Player Analysis For SRH vs MI IPL 2025 Match 4123 Apr 2025Highest Totals By RCB Against Mumbai Indians In IPL7 Apr 2025OTD In 2020: Rohit Sharma Became First Captain To Win 5 IPL Titles For Mumbai Indians10 Nov 2024Highest Scores By Suryakumar Yadav In IPL14 Sep 2024'Gangsters Killed Entire\", \"Yadav In IPL14 Sep 2024'Gangsters Killed Entire Family' - Raina Reveals Reason For Abruptly Leaving IPL 202022 Apr 2024 CREXAboutGrievanceRefund PolicyPrivacy PolicyTerms and ConditionsContact Us\", 'Please enable JavaScript to continue using this application.', 'IPL 2023 Fixtures and Stats | Indian Premier League 2023 - crex.com', 'CREX Home(current) Series Fixtures\\uf8ffüèè Stats CornerRankingsDark LCP Element', 'Indian Premier League 2023 Mar 31 to May 29More Seasons >IPL 2025IPL 2024 Overview  Matches  Squads  Points Table  News  Info  Featured Matches  All Matches > CSK171/515.0 CSK Won  Final  IPL 2023GT214/420.0GT233/320.0 GT Won  Qualifier 2  IPL 2023MI17118.2LSG10116.3 MI Won  Eliminator 1  IPL 2023MI182/820.0IPL 2023 Points TableTeam', '1  IPL 2023MI182/820.0IPL 2023 Points TableTeam FormTeamPWLNRCupRNRRPtsGT141040--+0.80920CSK14851--+0.65217LSG14851--+0.28417MI14860---0.04416RR14770--+0.14814RCB14770--+0.13514KKR14680---0.23912PBKS14680---0.30412DC14590---0.80810SRH144100---0.5908 Team Squads CSKRCBRRKKRDCSRHGTPBKSLSGMI Series Info SeriesIndian Premier League 2023DurationMar 31 - May 29, 2023Format74 T20s Previous Seasons IPL 2025IPL 2024IPL 2022More Seasons > Key Stats  Most Runs S GillGujarat Titans 890 Runs  Most Wickets M', 'S GillGujarat Titans 890 Runs  Most Wickets M ShamiGujarat Titans 28  Most Sixes F D PlessisRoyal Challengers Bengaluru 36  Best Strike Rate R KhanGujarat Titans 216.67  Top headlines  All News > Rain Impact In IPL! When CSK Vs GT Final Lasted Three Long Days18 Apr 20255 Highest Team Totals At Eden Gardens Kolkata In IPL History8 Apr 2025Highest Totals By RCB Against Mumbai Indians In IPL7 Apr 2025Biggest Defeats For SRH In IPL History3 Apr 2025Highest Scores By LSG Vs PBKS In IPL History1 Apr', 'Scores By LSG Vs PBKS In IPL History1 Apr 2025 CREXAboutGrievanceRefund PolicyPrivacy PolicyTerms and ConditionsContact Us', 'Please enable JavaScript to continue using this application.'], 'uris': None, 'included': ['metadatas', 'documents'], 'data': None, 'metadatas': [{'source': 'https://crex.com/series/7W/indian-premier-league-2020', 'description': 'One Stop for IPL 2020. Get featured matches and teams squad. Catch up with live score, stats and points table updates.', 'title': 'IPL 2020 Fixtures and Stats | Indian Premier League 2020 - crex.com', 'language': 'en'}, {'language': 'en', 'description': 'One Stop for IPL 2020. Get featured matches and teams squad. Catch up with live score, stats and points table updates.', 'title': 'IPL 2020 Fixtures and Stats | Indian Premier League 2020 - crex.com', 'source': 'https://crex.com/series/7W/indian-premier-league-2020'}, {'language': 'en', 'title': 'IPL 2020 Fixtures and Stats | Indian Premier League 2020 - crex.com', 'description': 'One Stop for IPL 2020. Get featured matches and teams squad. Catch up with live score, stats and points table updates.', 'source': 'https://crex.com/series/7W/indian-premier-league-2020'}, {'language': 'en', 'description': 'One Stop for IPL 2020. Get featured matches and teams squad. Catch up with live score, stats and points table updates.', 'source': 'https://crex.com/series/7W/indian-premier-league-2020', 'title': 'IPL 2020 Fixtures and Stats | Indian Premier League 2020 - crex.com'}, {'source': 'https://crex.com/series/7W/indian-premier-league-2020', 'language': 'en', 'title': 'IPL 2020 Fixtures and Stats | Indian Premier League 2020 - crex.com', 'description': 'One Stop for IPL 2020. Get featured matches and teams squad. Catch up with live score, stats and points table updates.'}, {'title': 'IPL 2020 Fixtures and Stats | Indian Premier League 2020 - crex.com', 'source': 'https://crex.com/series/7W/indian-premier-league-2020', 'description': 'One Stop for IPL 2020. Get featured matches and teams squad. Catch up with live score, stats and points table updates.', 'language': 'en'}, {'title': 'IPL 2020 Fixtures and Stats | Indian Premier League 2020 - crex.com', 'description': 'One Stop for IPL 2020. Get featured matches and teams squad. Catch up with live score, stats and points table updates.', 'source': 'https://crex.com/series/7W/indian-premier-league-2020', 'language': 'en'}, {'language': 'en', 'description': 'One Stop for IPL 2023. Get featured matches and teams squad. Catch up with live score, stats and points table updates.', 'source': 'https://crex.com/series/19W/indian-premier-league-2023', 'title': 'IPL 2023 Fixtures and Stats | Indian Premier League 2023 - crex.com'}, {'description': 'One Stop for IPL 2023. Get featured matches and teams squad. Catch up with live score, stats and points table updates.', 'title': 'IPL 2023 Fixtures and Stats | Indian Premier League 2023 - crex.com', 'language': 'en', 'source': 'https://crex.com/series/19W/indian-premier-league-2023'}, {'source': 'https://crex.com/series/19W/indian-premier-league-2023', 'description': 'One Stop for IPL 2023. Get featured matches and teams squad. Catch up with live score, stats and points table updates.', 'title': 'IPL 2023 Fixtures and Stats | Indian Premier League 2023 - crex.com', 'language': 'en'}, {'source': 'https://crex.com/series/19W/indian-premier-league-2023', 'description': 'One Stop for IPL 2023. Get featured matches and teams squad. Catch up with live score, stats and points table updates.', 'title': 'IPL 2023 Fixtures and Stats | Indian Premier League 2023 - crex.com', 'language': 'en'}, {'description': 'One Stop for IPL 2023. Get featured matches and teams squad. Catch up with live score, stats and points table updates.', 'title': 'IPL 2023 Fixtures and Stats | Indian Premier League 2023 - crex.com', 'source': 'https://crex.com/series/19W/indian-premier-league-2023', 'language': 'en'}, {'source': 'https://crex.com/series/19W/indian-premier-league-2023', 'title': 'IPL 2023 Fixtures and Stats | Indian Premier League 2023 - crex.com', 'description': 'One Stop for IPL 2023. Get featured matches and teams squad. Catch up with live score, stats and points table updates.', 'language': 'en'}, {'title': 'IPL 2023 Fixtures and Stats | Indian Premier League 2023 - crex.com', 'description': 'One Stop for IPL 2023. Get featured matches and teams squad. Catch up with live score, stats and points table updates.', 'language': 'en', 'source': 'https://crex.com/series/19W/indian-premier-league-2023'}]}\n"
          ]
        }
      ]
    },
    {
      "cell_type": "code",
      "source": [
        "print(vectorstore._collection.get(ids=['dbb3ffab-7bdf-4d58-a638-fd4839ba556e'], include=[\"embeddings\",\"documents\"]))"
      ],
      "metadata": {
        "colab": {
          "base_uri": "https://localhost:8080/"
        },
        "id": "L6mR9mPccA3z",
        "outputId": "a39c3ded-6edd-483f-edb9-3532004688aa"
      },
      "execution_count": 10,
      "outputs": [
        {
          "output_type": "stream",
          "name": "stdout",
          "text": [
            "{'ids': ['dbb3ffab-7bdf-4d58-a638-fd4839ba556e'], 'embeddings': array([[ 0.43652344, -1.4296875 ,  1.12792969, ..., -0.17138672,\n",
            "        -1.08105469,  1.52441406]]), 'documents': ['IPL 2020 Fixtures and Stats | Indian Premier League 2020 - crex.com'], 'uris': None, 'included': ['embeddings', 'documents'], 'data': None, 'metadatas': None}\n"
          ]
        }
      ]
    },
    {
      "cell_type": "code",
      "source": [
        "retriever = vectorstore.as_retriever()"
      ],
      "metadata": {
        "id": "8qa63tWEcd8Q"
      },
      "execution_count": 11,
      "outputs": []
    },
    {
      "cell_type": "code",
      "source": [
        "from langchain import hub\n",
        "prompt = hub.pull(\"rlm/rag-prompt-mistral\")"
      ],
      "metadata": {
        "colab": {
          "base_uri": "https://localhost:8080/"
        },
        "id": "458MSbgscweI",
        "outputId": "8d543762-09b0-444c-876f-b2c55baac1ac"
      },
      "execution_count": 12,
      "outputs": [
        {
          "output_type": "stream",
          "name": "stderr",
          "text": [
            "/usr/local/lib/python3.11/dist-packages/langsmith/client.py:272: LangSmithMissingAPIKeyWarning: API key must be provided when using hosted LangSmith API\n",
            "  warnings.warn(\n"
          ]
        }
      ]
    },
    {
      "cell_type": "code",
      "source": [
        "from langchain_cohere import ChatCohere\n",
        "\n",
        "llm = ChatCohere()"
      ],
      "metadata": {
        "id": "QmtmdsoXdsKZ"
      },
      "execution_count": 13,
      "outputs": []
    },
    {
      "cell_type": "code",
      "source": [
        "def join_doc(docs):\n",
        "  return \"\\n\".join(doc.page_content for doc in docs)"
      ],
      "metadata": {
        "id": "NSDVvxI-jhhG"
      },
      "execution_count": 14,
      "outputs": []
    },
    {
      "cell_type": "code",
      "source": [
        "from langchain_core.runnables import RunnablePassthrough\n",
        "from langchain_core.output_parsers import StrOutputParser\n",
        "from langchain_core.runnables import RunnableLambda"
      ],
      "metadata": {
        "id": "FrGbCPh1iY42"
      },
      "execution_count": 15,
      "outputs": []
    },
    {
      "cell_type": "code",
      "source": [
        "join_docs_runnable = RunnableLambda(join_doc)\n"
      ],
      "metadata": {
        "id": "JqVOFyyHluJT"
      },
      "execution_count": 16,
      "outputs": []
    },
    {
      "cell_type": "code",
      "source": [
        "rag_chain = ({\n",
        "    \"context\" : retriever | join_docs_runnable,\n",
        "    \"question\" : RunnablePassthrough()} | prompt | llm | StrOutputParser() )"
      ],
      "metadata": {
        "id": "a7vR-pObh-7h"
      },
      "execution_count": 17,
      "outputs": []
    },
    {
      "cell_type": "code",
      "source": [
        "rag_chain.invoke(\"Who is Winner of IPL 2020 Season?\")"
      ],
      "metadata": {
        "colab": {
          "base_uri": "https://localhost:8080/",
          "height": 36
        },
        "id": "wdE8yHUrkkUW",
        "outputId": "bfb1e90a-dd9f-4bf3-d97b-9261fa7d7a1e"
      },
      "execution_count": 24,
      "outputs": [
        {
          "output_type": "execute_result",
          "data": {
            "text/plain": [
              "'The Mumbai Indians won the IPL 2020 season. They defeated the Delhi Capitals in the final match. The context clearly states this information.'"
            ],
            "application/vnd.google.colaboratory.intrinsic+json": {
              "type": "string"
            }
          },
          "metadata": {},
          "execution_count": 24
        }
      ]
    },
    {
      "cell_type": "code",
      "source": [
        "rag_chain.invoke(\"Who won final match of season 2020 IPL?\")"
      ],
      "metadata": {
        "colab": {
          "base_uri": "https://localhost:8080/",
          "height": 53
        },
        "id": "aV8AzTIauj97",
        "outputId": "aff179e0-516a-4129-8c06-58ae021df587"
      },
      "execution_count": 25,
      "outputs": [
        {
          "output_type": "execute_result",
          "data": {
            "text/plain": [
              "'The Mumbai Indians won the final match of the 2020 IPL season. They defeated the Delhi Capitals, scoring 157/5 in 18.4 overs. The match was part of the Indian Premier League 2020, which ran from September 19 to November 10.'"
            ],
            "application/vnd.google.colaboratory.intrinsic+json": {
              "type": "string"
            }
          },
          "metadata": {},
          "execution_count": 25
        }
      ]
    },
    {
      "cell_type": "code",
      "source": [
        "rag_chain.invoke(\"Who won the final in IPL 2023?\")"
      ],
      "metadata": {
        "colab": {
          "base_uri": "https://localhost:8080/",
          "height": 53
        },
        "id": "Ta9LPTExoJK6",
        "outputId": "d6c01092-d50b-4eb9-c34a-8a1296f1b9d4"
      },
      "execution_count": 26,
      "outputs": [
        {
          "output_type": "execute_result",
          "data": {
            "text/plain": [
              "'The context provided indicates that CSK won the final in IPL 2023 with a score of 171/5 in 15.0 overs. However, there is also a mention of GT winning a match with a score of 214/4 in 20.0 overs, but it is not explicitly stated as the final. Based on the available information, it appears that CSK won the final in IPL 2023.'"
            ],
            "application/vnd.google.colaboratory.intrinsic+json": {
              "type": "string"
            }
          },
          "metadata": {},
          "execution_count": 26
        }
      ]
    }
  ]
}